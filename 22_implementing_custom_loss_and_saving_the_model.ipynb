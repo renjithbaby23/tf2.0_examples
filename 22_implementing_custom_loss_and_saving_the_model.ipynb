{
 "cells": [
  {
   "cell_type": "markdown",
   "metadata": {},
   "source": [
    "# Custom Loss function in tensorflow"
   ]
  },
  {
   "cell_type": "code",
   "execution_count": 1,
   "metadata": {},
   "outputs": [
    {
     "name": "stdout",
     "output_type": "stream",
     "text": [
      "2.0.0-beta1\n"
     ]
    }
   ],
   "source": [
    "import tensorflow as tf\n",
    "print(tf.__version__)"
   ]
  },
  {
   "cell_type": "markdown",
   "metadata": {},
   "source": [
    "Example: Implementing Huber Loss\n",
    "\n",
    "The mean squared error might penalize large errors too much, so your model will end up being imprecise. \n",
    "The mean absolute error would not penalize outliers as much, but training might take a while to converge and the trained model might not be very precise. \n",
    "This is probably a good time to use the Huber loss."
   ]
  },
  {
   "cell_type": "code",
   "execution_count": 10,
   "metadata": {},
   "outputs": [],
   "source": [
    "def huber_loss(y_true, y_pred):\n",
    "    error = y_true - y_pred\n",
    "    is_small_error = tf.abs(error) < 1\n",
    "    squared_loss = tf.square(error) / 2\n",
    "    linear_loss = tf.abs(error) - 0.5\n",
    "    return tf.where(is_small_error, squared_loss, linear_loss)"
   ]
  },
  {
   "cell_type": "code",
   "execution_count": 21,
   "metadata": {},
   "outputs": [],
   "source": [
    "# Explicitly give the data type as tf.float32 to avoid InvalidArgumentError\n",
    "y_true = tf.constant([1, 1.5, 2, 3, 4, 5], dtype=tf.float32)\n",
    "y_pred = tf.constant([1, 1, 1, 1, 1, 1], dtype=tf.float32)\n",
    "\n",
    "# calculating the loss\n",
    "loss = huber_loss(y_true, y_pred)"
   ]
  },
  {
   "cell_type": "code",
   "execution_count": 22,
   "metadata": {},
   "outputs": [
    {
     "data": {
      "text/plain": [
       "array([0.   , 0.125, 0.5  , 1.5  , 2.5  , 3.5  ], dtype=float32)"
      ]
     },
     "execution_count": 22,
     "metadata": {},
     "output_type": "execute_result"
    }
   ],
   "source": [
    "loss.numpy()"
   ]
  },
  {
   "cell_type": "markdown",
   "metadata": {},
   "source": [
    "### Next, you can just use this loss when you compile the Keras model, then train your model:\n",
    "```\n",
    "model.compile(loss=huber_loss, optimizer=\"nadam\")\n",
    "model.fit(X_train, y_train, [...])\n",
    "```"
   ]
  },
  {
   "cell_type": "markdown",
   "metadata": {},
   "source": [
    "And that’s it! For each batch during training, tf.keras will call the huber_loss() function\n",
    "to compute the loss, and use it to perform a Gradient Descent step. Moreover, it will\n",
    "keep track of the total loss since the beginning of the epoch, and it will display the\n",
    "mean loss."
   ]
  },
  {
   "cell_type": "markdown",
   "metadata": {},
   "source": [
    "## Saving models with custom losses"
   ]
  },
  {
   "cell_type": "markdown",
   "metadata": {},
   "source": [
    "#### But what happens to this custom loss when we save the model?\n",
    "\n",
    "Saving a model containing a custom loss function actually works fine, as Keras just\n",
    "saves the name of the function. However, whenever you load it, you need to provide a\n",
    "dictionary that maps the function name to the actual function. More generally, when\n",
    "you load a model containing custom objects, you need to map the names to the\n",
    "objects:\n",
    "```\n",
    "model = keras.models.load_model(\"my_model_with_a_custom_loss.h5\",\n",
    "                                custom_objects={\"huber_loss\": huber_loss})\n",
    "```"
   ]
  },
  {
   "cell_type": "code",
   "execution_count": 23,
   "metadata": {},
   "outputs": [],
   "source": [
    "# With the current implementation, any error between -1 and 1 is considered “small”.\n",
    "# But what if we want a different threshold? One solution is to create a function that\n",
    "# creates a configured loss function:\n",
    "def create_huber(threshold=1.0):\n",
    "    def huber_fn(y_true, y_pred):\n",
    "        error = y_true - y_pred\n",
    "        is_small_error = tf.abs(error) < threshold\n",
    "        squared_loss = tf.square(error) / 2\n",
    "        linear_loss = threshold * tf.abs(error) - threshold**2 / 2\n",
    "        return tf.where(is_small_error, squared_loss, linear_loss)\n",
    "    return huber_fn"
   ]
  },
  {
   "cell_type": "code",
   "execution_count": 37,
   "metadata": {},
   "outputs": [
    {
     "name": "stdout",
     "output_type": "stream",
     "text": [
      "loss:  [0.    0.125 0.5   2.    4.    6.   ]\n",
      "mean_loss:  2.1041667\n"
     ]
    }
   ],
   "source": [
    "# calculating the loss\n",
    "loss = create_huber(2.0)(y_true, y_pred)\n",
    "print(\"loss: \", loss.numpy())\n",
    "print(\"mean_loss: \", tf.reduce_mean(loss).numpy())"
   ]
  },
  {
   "cell_type": "markdown",
   "metadata": {},
   "source": [
    "Then use the below to compile the model, \n",
    "```\n",
    "model.compile(loss=create_huber(2.0), optimizer=\"nadam\")\n",
    "```\n",
    "\n",
    "Unfortunately, when you save the model, the threshold will not be saved. This means\n",
    "that you will have to specify the threshold value when loading the model (**note that\n",
    "the name to use is \"huber_loss\" , which is the name of the function we gave tf.keras, not\n",
    "the name of the function that created it**):\n",
    "```\n",
    "model = keras.models.load_model(\"my_model_with_a_custom_loss_threshold_2.h5\",\n",
    "                                custom_objects={\"huber_loss\": create_huber(2.0)})\n",
    "```"
   ]
  },
  {
   "cell_type": "markdown",
   "metadata": {},
   "source": [
    "You can solve this by creating a subclass of the keras.losses.Loss class, and imple‐\n",
    "ment its get_config() method:"
   ]
  },
  {
   "cell_type": "code",
   "execution_count": 32,
   "metadata": {},
   "outputs": [],
   "source": [
    "class Huberloss(tf.keras.losses.Loss):\n",
    "    def __init__(self, threshold=1.0, **kwargs):\n",
    "        self.threshold = threshold\n",
    "        super().__init__(**kwargs)\n",
    "    def call(self, y_true, y_pred):\n",
    "        error = y_true - y_pred\n",
    "        is_small_error = tf.abs(error) < self.threshold\n",
    "        squared_loss = tf.square(error) / 2\n",
    "        linear_loss = self.threshold * tf.abs(error) - self.threshold**2 / 2\n",
    "        # Note that you have to return individual losses, \n",
    "        # tf.keras will take care of finding the cumulative loss and averaging\n",
    "        return tf.where(is_small_error, squared_loss, linear_loss)\n",
    "    def get_config(self):\n",
    "        base_config = super().get_config()\n",
    "        return {**base_config, \"threshold\": self.threshold}"
   ]
  },
  {
   "cell_type": "code",
   "execution_count": 33,
   "metadata": {},
   "outputs": [],
   "source": [
    "huber_loss = Huberloss(2.0)"
   ]
  },
  {
   "cell_type": "code",
   "execution_count": 34,
   "metadata": {},
   "outputs": [
    {
     "name": "stdout",
     "output_type": "stream",
     "text": [
      "2.1041667\n"
     ]
    }
   ],
   "source": [
    "# calculating the loss\n",
    "loss = huber_loss(y_true, y_pred)\n",
    "print(loss.numpy())"
   ]
  },
  {
   "cell_type": "code",
   "execution_count": 39,
   "metadata": {},
   "outputs": [
    {
     "data": {
      "text/plain": [
       "{'reduction': 'auto', 'name': None, 'threshold': 2.0}"
      ]
     },
     "execution_count": 39,
     "metadata": {},
     "output_type": "execute_result"
    }
   ],
   "source": [
    "huber_loss.get_config()"
   ]
  },
  {
   "cell_type": "markdown",
   "metadata": {},
   "source": [
    "You can then use any instance of this class when you compile the model:\n",
    "```\n",
    "model.compile(loss=HuberLoss(2.), optimizer=\"nadam\")\n",
    "```"
   ]
  },
  {
   "cell_type": "markdown",
   "metadata": {},
   "source": [
    "When you save the model, the threshold will be saved along with it, and when you \n",
    "load the model you just need to map the class name to the class itself:\n",
    "```\n",
    "model = keras.models.load_model(\"my_model_with_a_custom_loss_class.h5\",\n",
    "                                custom_objects={\"HuberLoss\": HuberLoss})\n",
    "```"
   ]
  },
  {
   "cell_type": "markdown",
   "metadata": {},
   "source": [
    "When you save a model, Keras calls the loss instance’s get_config() method and\n",
    "saves the config as JSON in the HDF5 file. When you load the model, it calls the\n",
    "from_config() class method on the HuberLoss class: this method is implemented by\n",
    "the base class ( Loss ) and just creates an instance of the class, passing **config to the\n",
    "constructor."
   ]
  },
  {
   "cell_type": "code",
   "execution_count": null,
   "metadata": {},
   "outputs": [],
   "source": []
  }
 ],
 "metadata": {
  "kernelspec": {
   "display_name": "tf2",
   "language": "python",
   "name": "myenv"
  },
  "language_info": {
   "codemirror_mode": {
    "name": "ipython",
    "version": 3
   },
   "file_extension": ".py",
   "mimetype": "text/x-python",
   "name": "python",
   "nbconvert_exporter": "python",
   "pygments_lexer": "ipython3",
   "version": "3.6.8"
  }
 },
 "nbformat": 4,
 "nbformat_minor": 2
}
